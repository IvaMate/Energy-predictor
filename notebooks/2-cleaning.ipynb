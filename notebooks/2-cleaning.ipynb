{
 "cells": [
  {
   "cell_type": "code",
   "execution_count": 27,
   "metadata": {},
   "outputs": [],
   "source": [
    "import pandas as pd\n",
    "import numpy as np\n",
    "import matplotlib.pyplot as plt\n",
    "import seaborn as sns\n",
    "import holidays\n"
   ]
  },
  {
   "cell_type": "code",
   "execution_count": 17,
   "metadata": {},
   "outputs": [],
   "source": [
    "# Set seaborn style\n",
    "sns.set(style=\"whitegrid\")\n",
    "colors = sns.color_palette(\"muted\")\n",
    "class_labels = {0: 'Electricity', 1: 'Chilled Water', 2: 'Steam', 3: 'Hot Water'}"
   ]
  },
  {
   "cell_type": "code",
   "execution_count": 18,
   "metadata": {},
   "outputs": [],
   "source": [
    "#Load\n",
    "train_df=pd.read_csv(r'C:\\Users\\imate\\Documents\\24.9.Notebooks_training\\Final-pipeline\\data\\processed\\merged_data.csv')"
   ]
  },
  {
   "cell_type": "markdown",
   "metadata": {},
   "source": [
    "# Remove outliers"
   ]
  },
  {
   "cell_type": "code",
   "execution_count": 19,
   "metadata": {},
   "outputs": [
    {
     "name": "stdout",
     "output_type": "stream",
     "text": [
      "        Unnamed: 0.1  Unnamed: 0  site_id  building_id primary_use  \\\n",
      "236943        236943      236943       15         1381      Office   \n",
      "236944        236944      236944       15         1381      Office   \n",
      "236945        236945      236945       15         1381      Office   \n",
      "236946        236946      236946       15         1381      Office   \n",
      "236947        236947      236947       15         1381      Office   \n",
      "...              ...         ...      ...          ...         ...   \n",
      "245392        245392      245392       15         1381      Office   \n",
      "245393        245393      245393       15         1381      Office   \n",
      "245394        245394      245394       15         1381      Office   \n",
      "245395        245395      245395       15         1381      Office   \n",
      "245396        245396      245396       15         1381      Office   \n",
      "\n",
      "        square_feet  year_built  floor_count  meter          timestamp_x  ...  \\\n",
      "236943        84615      1963.0          NaN      2  2016-11-26 07:00:00  ...   \n",
      "236944        84615      1963.0          NaN      2  2016-11-26 07:00:00  ...   \n",
      "236945        84615      1963.0          NaN      2  2016-11-26 07:00:00  ...   \n",
      "236946        84615      1963.0          NaN      2  2016-11-26 07:00:00  ...   \n",
      "236947        84615      1963.0          NaN      2  2016-11-26 07:00:00  ...   \n",
      "...             ...         ...          ...    ...                  ...  ...   \n",
      "245392        84615      1963.0          NaN      2  2016-11-26 07:00:00  ...   \n",
      "245393        84615      1963.0          NaN      2  2016-11-26 07:00:00  ...   \n",
      "245394        84615      1963.0          NaN      2  2016-11-26 07:00:00  ...   \n",
      "245395        84615      1963.0          NaN      2  2016-11-26 07:00:00  ...   \n",
      "245396        84615      1963.0          NaN      2  2016-11-26 07:00:00  ...   \n",
      "\n",
      "        precip_depth_1_hr sea_level_pressure  wind_direction  wind_speed  \\\n",
      "236943                NaN                NaN           330.0         4.1   \n",
      "236944                NaN                NaN           330.0         2.6   \n",
      "236945                NaN                NaN           340.0         2.1   \n",
      "236946                NaN                NaN           250.0         2.6   \n",
      "236947                NaN                NaN           240.0         3.1   \n",
      "...                   ...                ...             ...         ...   \n",
      "245392                NaN                NaN           180.0         5.7   \n",
      "245393                NaN             1007.4           180.0         7.7   \n",
      "245394                NaN             1007.5           180.0         5.1   \n",
      "245395                NaN             1008.0           170.0         4.6   \n",
      "245396               -1.0             1008.5           180.0         8.8   \n",
      "\n",
      "        hour  dayofweek  month  dayofyear  day  year  \n",
      "236943     7          5     11        331   26  2016  \n",
      "236944     7          5     11        331   26  2016  \n",
      "236945     7          5     11        331   26  2016  \n",
      "236946     7          5     11        331   26  2016  \n",
      "236947     7          5     11        331   26  2016  \n",
      "...      ...        ...    ...        ...  ...   ...  \n",
      "245392     7          5     11        331   26  2016  \n",
      "245393     7          5     11        331   26  2016  \n",
      "245394     7          5     11        331   26  2016  \n",
      "245395     7          5     11        331   26  2016  \n",
      "245396     7          5     11        331   26  2016  \n",
      "\n",
      "[8454 rows x 25 columns]\n"
     ]
    }
   ],
   "source": [
    "#Check which building has the max meter reading -> outlier remove!\n",
    "print(train_df[train_df.meter_reading == train_df.meter_reading.max()])"
   ]
  },
  {
   "cell_type": "code",
   "execution_count": 20,
   "metadata": {},
   "outputs": [
    {
     "name": "stdout",
     "output_type": "stream",
     "text": [
      "       Unnamed: 0.1  Unnamed: 0  site_id  building_id primary_use  \\\n",
      "17546         17546       17546        2          221   Education   \n",
      "17547         17547       17547        2          221   Education   \n",
      "17548         17548       17548        2          221   Education   \n",
      "17549         17549       17549        2          221   Education   \n",
      "17550         17550       17550        2          221   Education   \n",
      "...             ...         ...      ...          ...         ...   \n",
      "26324         26324       26324        2          221   Education   \n",
      "26325         26325       26325        2          221   Education   \n",
      "26326         26326       26326        2          221   Education   \n",
      "26327         26327       26327        2          221   Education   \n",
      "26328         26328       26328        2          221   Education   \n",
      "\n",
      "       square_feet  year_built  floor_count  meter          timestamp_x  ...  \\\n",
      "17546       204349      1993.0          NaN      1  2016-03-22 20:00:00  ...   \n",
      "17547       204349      1993.0          NaN      1  2016-03-22 20:00:00  ...   \n",
      "17548       204349      1993.0          NaN      1  2016-03-22 20:00:00  ...   \n",
      "17549       204349      1993.0          NaN      1  2016-03-22 20:00:00  ...   \n",
      "17550       204349      1993.0          NaN      1  2016-03-22 20:00:00  ...   \n",
      "...            ...         ...          ...    ...                  ...  ...   \n",
      "26324       204349      1993.0          NaN      1  2016-03-22 20:00:00  ...   \n",
      "26325       204349      1993.0          NaN      1  2016-03-22 20:00:00  ...   \n",
      "26326       204349      1993.0          NaN      1  2016-03-22 20:00:00  ...   \n",
      "26327       204349      1993.0          NaN      1  2016-03-22 20:00:00  ...   \n",
      "26328       204349      1993.0          NaN      1  2016-03-22 20:00:00  ...   \n",
      "\n",
      "       precip_depth_1_hr sea_level_pressure  wind_direction  wind_speed  hour  \\\n",
      "17546                NaN             1015.3           270.0         3.6    20   \n",
      "17547                0.0             1015.6           270.0         4.1    20   \n",
      "17548                0.0             1016.0           270.0         3.1    20   \n",
      "17549                0.0             1016.6           280.0         3.1    20   \n",
      "17550                0.0             1017.0           270.0         3.1    20   \n",
      "...                  ...                ...             ...         ...   ...   \n",
      "26324                0.0             1012.4           210.0         3.6    20   \n",
      "26325                0.0             1011.7           260.0         3.6    20   \n",
      "26326                0.0             1011.2           240.0         4.6    20   \n",
      "26327                0.0             1011.0           250.0         3.6    20   \n",
      "26328                0.0             1011.0           250.0         2.6    20   \n",
      "\n",
      "       dayofweek  month  dayofyear  day  year  \n",
      "17546          1      3         82   22  2016  \n",
      "17547          1      3         82   22  2016  \n",
      "17548          1      3         82   22  2016  \n",
      "17549          1      3         82   22  2016  \n",
      "17550          1      3         82   22  2016  \n",
      "...          ...    ...        ...  ...   ...  \n",
      "26324          1      3         82   22  2016  \n",
      "26325          1      3         82   22  2016  \n",
      "26326          1      3         82   22  2016  \n",
      "26327          1      3         82   22  2016  \n",
      "26328          1      3         82   22  2016  \n",
      "\n",
      "[8783 rows x 25 columns]\n"
     ]
    }
   ],
   "source": [
    "#check\n",
    "train_df = train_df.drop(train_df[train_df['building_id'] == 1381].index)\n",
    "print(train_df[train_df.meter_reading == train_df.meter_reading.max()])"
   ]
  },
  {
   "cell_type": "markdown",
   "metadata": {},
   "source": [
    "# Missing Value Imputation"
   ]
  },
  {
   "cell_type": "code",
   "execution_count": 21,
   "metadata": {},
   "outputs": [
    {
     "data": {
      "text/html": [
       "<div>\n",
       "<style scoped>\n",
       "    .dataframe tbody tr th:only-of-type {\n",
       "        vertical-align: middle;\n",
       "    }\n",
       "\n",
       "    .dataframe tbody tr th {\n",
       "        vertical-align: top;\n",
       "    }\n",
       "\n",
       "    .dataframe thead th {\n",
       "        text-align: right;\n",
       "    }\n",
       "</style>\n",
       "<table border=\"1\" class=\"dataframe\">\n",
       "  <thead>\n",
       "    <tr style=\"text-align: right;\">\n",
       "      <th></th>\n",
       "      <th>column_name</th>\n",
       "      <th>percent_missing</th>\n",
       "    </tr>\n",
       "  </thead>\n",
       "  <tbody>\n",
       "    <tr>\n",
       "      <th>Unnamed: 0.1</th>\n",
       "      <td>Unnamed: 0.1</td>\n",
       "      <td>0.000000</td>\n",
       "    </tr>\n",
       "    <tr>\n",
       "      <th>Unnamed: 0</th>\n",
       "      <td>Unnamed: 0</td>\n",
       "      <td>0.000000</td>\n",
       "    </tr>\n",
       "    <tr>\n",
       "      <th>site_id</th>\n",
       "      <td>site_id</td>\n",
       "      <td>0.000000</td>\n",
       "    </tr>\n",
       "    <tr>\n",
       "      <th>building_id</th>\n",
       "      <td>building_id</td>\n",
       "      <td>0.000000</td>\n",
       "    </tr>\n",
       "    <tr>\n",
       "      <th>primary_use</th>\n",
       "      <td>primary_use</td>\n",
       "      <td>0.000000</td>\n",
       "    </tr>\n",
       "    <tr>\n",
       "      <th>square_feet</th>\n",
       "      <td>square_feet</td>\n",
       "      <td>0.000000</td>\n",
       "    </tr>\n",
       "    <tr>\n",
       "      <th>year_built</th>\n",
       "      <td>year_built</td>\n",
       "      <td>65.701140</td>\n",
       "    </tr>\n",
       "    <tr>\n",
       "      <th>floor_count</th>\n",
       "      <td>floor_count</td>\n",
       "      <td>61.993453</td>\n",
       "    </tr>\n",
       "    <tr>\n",
       "      <th>meter</th>\n",
       "      <td>meter</td>\n",
       "      <td>0.000000</td>\n",
       "    </tr>\n",
       "    <tr>\n",
       "      <th>timestamp_x</th>\n",
       "      <td>timestamp_x</td>\n",
       "      <td>0.000000</td>\n",
       "    </tr>\n",
       "    <tr>\n",
       "      <th>meter_reading</th>\n",
       "      <td>meter_reading</td>\n",
       "      <td>0.000000</td>\n",
       "    </tr>\n",
       "    <tr>\n",
       "      <th>timestamp_y</th>\n",
       "      <td>timestamp_y</td>\n",
       "      <td>0.000000</td>\n",
       "    </tr>\n",
       "    <tr>\n",
       "      <th>air_temperature</th>\n",
       "      <td>air_temperature</td>\n",
       "      <td>0.051999</td>\n",
       "    </tr>\n",
       "    <tr>\n",
       "      <th>cloud_coverage</th>\n",
       "      <td>cloud_coverage</td>\n",
       "      <td>39.739453</td>\n",
       "    </tr>\n",
       "    <tr>\n",
       "      <th>dew_temperature</th>\n",
       "      <td>dew_temperature</td>\n",
       "      <td>0.063423</td>\n",
       "    </tr>\n",
       "    <tr>\n",
       "      <th>precip_depth_1_hr</th>\n",
       "      <td>precip_depth_1_hr</td>\n",
       "      <td>26.740489</td>\n",
       "    </tr>\n",
       "    <tr>\n",
       "      <th>sea_level_pressure</th>\n",
       "      <td>sea_level_pressure</td>\n",
       "      <td>11.923136</td>\n",
       "    </tr>\n",
       "    <tr>\n",
       "      <th>wind_direction</th>\n",
       "      <td>wind_direction</td>\n",
       "      <td>8.175662</td>\n",
       "    </tr>\n",
       "    <tr>\n",
       "      <th>wind_speed</th>\n",
       "      <td>wind_speed</td>\n",
       "      <td>0.391962</td>\n",
       "    </tr>\n",
       "    <tr>\n",
       "      <th>hour</th>\n",
       "      <td>hour</td>\n",
       "      <td>0.000000</td>\n",
       "    </tr>\n",
       "    <tr>\n",
       "      <th>dayofweek</th>\n",
       "      <td>dayofweek</td>\n",
       "      <td>0.000000</td>\n",
       "    </tr>\n",
       "    <tr>\n",
       "      <th>month</th>\n",
       "      <td>month</td>\n",
       "      <td>0.000000</td>\n",
       "    </tr>\n",
       "    <tr>\n",
       "      <th>dayofyear</th>\n",
       "      <td>dayofyear</td>\n",
       "      <td>0.000000</td>\n",
       "    </tr>\n",
       "    <tr>\n",
       "      <th>day</th>\n",
       "      <td>day</td>\n",
       "      <td>0.000000</td>\n",
       "    </tr>\n",
       "    <tr>\n",
       "      <th>year</th>\n",
       "      <td>year</td>\n",
       "      <td>0.000000</td>\n",
       "    </tr>\n",
       "  </tbody>\n",
       "</table>\n",
       "</div>"
      ],
      "text/plain": [
       "                           column_name  percent_missing\n",
       "Unnamed: 0.1              Unnamed: 0.1         0.000000\n",
       "Unnamed: 0                  Unnamed: 0         0.000000\n",
       "site_id                        site_id         0.000000\n",
       "building_id                building_id         0.000000\n",
       "primary_use                primary_use         0.000000\n",
       "square_feet                square_feet         0.000000\n",
       "year_built                  year_built        65.701140\n",
       "floor_count                floor_count        61.993453\n",
       "meter                            meter         0.000000\n",
       "timestamp_x                timestamp_x         0.000000\n",
       "meter_reading            meter_reading         0.000000\n",
       "timestamp_y                timestamp_y         0.000000\n",
       "air_temperature        air_temperature         0.051999\n",
       "cloud_coverage          cloud_coverage        39.739453\n",
       "dew_temperature        dew_temperature         0.063423\n",
       "precip_depth_1_hr    precip_depth_1_hr        26.740489\n",
       "sea_level_pressure  sea_level_pressure        11.923136\n",
       "wind_direction          wind_direction         8.175662\n",
       "wind_speed                  wind_speed         0.391962\n",
       "hour                              hour         0.000000\n",
       "dayofweek                    dayofweek         0.000000\n",
       "month                            month         0.000000\n",
       "dayofyear                    dayofyear         0.000000\n",
       "day                                day         0.000000\n",
       "year                              year         0.000000"
      ]
     },
     "execution_count": 21,
     "metadata": {},
     "output_type": "execute_result"
    }
   ],
   "source": [
    "def percent_missing_val(df):\n",
    "\n",
    "  percent_missing = (df.isnull().sum() * 100) / len(df)\n",
    "  missing_value_df = pd.DataFrame({'column_name': df.columns,\n",
    "                                 'percent_missing': percent_missing})\n",
    "  return missing_value_df\n",
    "\n",
    "\n",
    "df = percent_missing_val(train_df)\n",
    "df"
   ]
  },
  {
   "cell_type": "markdown",
   "metadata": {},
   "source": [
    "We have more than 50% of values missing from year_built and floor_count features, hence we will drop these two columns. We will now impute all the missing values in the other columns which are from our weather data. As we all know, that weather strongly varies from one location to another, also from month to month and from day to night. Using this information, we will impute the missing values. We will find the average site wise temperatures for each day of the month and use this to impute missing values.\n",
    "\n"
   ]
  },
  {
   "cell_type": "code",
   "execution_count": 22,
   "metadata": {},
   "outputs": [
    {
     "data": {
      "text/plain": [
       "Index(['Unnamed: 0.1', 'Unnamed: 0', 'site_id', 'building_id', 'primary_use',\n",
       "       'square_feet', 'year_built', 'floor_count', 'meter', 'timestamp_x',\n",
       "       'meter_reading', 'timestamp_y', 'air_temperature', 'cloud_coverage',\n",
       "       'dew_temperature', 'precip_depth_1_hr', 'sea_level_pressure',\n",
       "       'wind_direction', 'wind_speed', 'hour', 'dayofweek', 'month',\n",
       "       'dayofyear', 'day', 'year'],\n",
       "      dtype='object')"
      ]
     },
     "execution_count": 22,
     "metadata": {},
     "output_type": "execute_result"
    }
   ],
   "source": [
    "train_df.columns"
   ]
  },
  {
   "cell_type": "code",
   "execution_count": 23,
   "metadata": {},
   "outputs": [],
   "source": [
    "def nan_fillers(df):\n",
    "  air_temp_df=df.groupby(['site_id', 'day', 'month'])['air_temperature'].transform('mean')\n",
    "  df['air_temperature'].fillna(air_temp_df, inplace=True)\n",
    "\n",
    "  dew_temp_df=df.groupby(['site_id', 'day', 'month'])['dew_temperature'].transform('mean')\n",
    "  df['dew_temperature'].fillna(dew_temp_df, inplace=True)\n",
    "\n",
    "  cloud_df=df.groupby(['site_id', 'day', 'month'])['cloud_coverage'].transform('mean')\n",
    "  df['cloud_coverage'].fillna(cloud_df, inplace=True)\n",
    "\n",
    "  sea_level_df=df.groupby(['site_id', 'day', 'month'])['sea_level_pressure'].transform('mean')\n",
    "  df['sea_level_pressure'].fillna(sea_level_df, inplace=True)\n",
    "\n",
    "  precip_df=df.groupby(['site_id', 'day', 'month'])['precip_depth_1_hr'].transform('mean')\n",
    "  df['precip_depth_1_hr'].fillna(precip_df, inplace=True)\n",
    "\n",
    "  wind_dir_df=df.groupby(['site_id', 'day', 'month'])['wind_direction'].transform('mean')\n",
    "  df['wind_direction'].fillna(wind_dir_df, inplace=True)\n",
    "\n",
    "  wind_speed_df=df.groupby(['site_id', 'day', 'month'])['wind_speed'].transform('mean')\n",
    "  df['wind_speed'].fillna(wind_speed_df, inplace=True)\n",
    "\n",
    "\n",
    "  return df\n",
    "\n",
    "train_df_clean=nan_fillers(train_df)"
   ]
  },
  {
   "cell_type": "markdown",
   "metadata": {},
   "source": [
    "As some of the slices were completely NAN in cloud_coverage, precip_depth_1_hr and sea_level_pressure, we will impute the rest of the values with the median."
   ]
  },
  {
   "cell_type": "code",
   "execution_count": 24,
   "metadata": {},
   "outputs": [],
   "source": [
    "train_df_clean['cloud_coverage'].fillna(train_df_clean['cloud_coverage'].median(), inplace=True)\n",
    "train_df_clean['sea_level_pressure'].fillna(train_df_clean['sea_level_pressure'].median(), inplace=True)\n",
    "train_df_clean['precip_depth_1_hr'].fillna(train_df_clean['precip_depth_1_hr'].median(), inplace=True)"
   ]
  },
  {
   "cell_type": "markdown",
   "metadata": {},
   "source": [
    "# Feature engineering"
   ]
  },
  {
   "cell_type": "markdown",
   "metadata": {},
   "source": [
    "## Adding holiday features"
   ]
  },
  {
   "cell_type": "code",
   "execution_count": 25,
   "metadata": {},
   "outputs": [],
   "source": [
    "train_df=train_df_clean"
   ]
  },
  {
   "cell_type": "code",
   "execution_count": 28,
   "metadata": {},
   "outputs": [],
   "source": [
    "\n",
    "location_df= pd.DataFrame()\n",
    "location_df['site_id']= np.arange(0,16)\n",
    "location_df['city']= ['Orlando', 'Heathrow', 'Tempe', 'Washington', 'Berkeley', 'Southampton', 'Washington', 'Ottowa', 'Orlando', 'Austin', 'Saltlake',\\\n",
    "                  'Ottowa', 'Dublin', 'Minneapolis', 'Philadelphia', 'Rochestor']\n",
    "\n",
    "location_df['country']= ['US', 'UK', 'US', 'US', 'US', 'UK', 'US', 'Canada', 'US', 'US', 'US', 'Canada', 'Ireland', 'US', 'US', 'US']\n",
    "train_df=train_df.merge(location_df, on='site_id', how='left')\n",
    "\n",
    "UK=[]\n",
    "US=[]\n",
    "CA=[]\n",
    "IRE=[]\n",
    "\n",
    "for ptr in holidays.UnitedKingdom(years = 2016).keys():\n",
    "    UK.append(str(ptr))\n",
    "for ptr in holidays.UnitedKingdom(years = 2017).keys():\n",
    "    UK.append(str(ptr))\n",
    "for ptr in holidays.UnitedKingdom(years = 2018).keys():\n",
    "    UK.append(str(ptr))\n",
    "UK.append('2019-01-01')\n",
    "\n",
    "\n",
    "for ptr in holidays.UnitedStates(years = 2016).keys():\n",
    "    US.append(str(ptr))\n",
    "for ptr in holidays.UnitedStates(years = 2017).keys():\n",
    "    US.append(str(ptr))\n",
    "for ptr in holidays.UnitedStates(years = 2018).keys():\n",
    "    US.append(str(ptr))\n",
    "US.append('2019-01-01')\n",
    "\n",
    "\n",
    "for ptr in holidays.Canada(years = 2016).keys():\n",
    "    CA.append(str(ptr))\n",
    "for ptr in holidays.Canada(years = 2017).keys():\n",
    "    CA.append(str(ptr))\n",
    "for ptr in holidays.Canada(years = 2018).keys():\n",
    "    CA.append(str(ptr))\n",
    "CA.append('2019-01-01')\n",
    "\n",
    "\n",
    "for ptr in holidays.Ireland(years = 2016).keys():\n",
    "    IRE.append(str(ptr))\n",
    "for ptr in holidays.Ireland(years = 2017).keys():\n",
    "    IRE.append(str(ptr))\n",
    "for ptr in holidays.Ireland(years = 2018).keys():\n",
    "    IRE.append(str(ptr))\n",
    "IRE.append('2019-01-01')\n",
    "\n",
    "def holiday_filler(df):\n",
    "  df['isHoliday']=[0]*(df.shape[0])\n",
    "  df.loc[df['country']=='US', 'isHoliday']= (df['timestamp'].dt.date.astype('str').isin(US)).astype('int')\n",
    "  df.loc[df['country']=='UK', 'isHoliday']= (df['timestamp'].dt.date.astype('str').isin(UK)).astype('int')\n",
    "  df.loc[df['country']=='Canada', 'isHoliday']= (df['timestamp'].dt.date.astype('str').isin(CA)).astype('int')\n",
    "  df.loc[df['country']=='Ireland', 'isHoliday']= (df['timestamp'].dt.date.astype('str').isin(IRE)).astype('int')\n",
    "\n",
    "  return df"
   ]
  },
  {
   "cell_type": "markdown",
   "metadata": {},
   "source": [
    "## Adding season feature"
   ]
  },
  {
   "cell_type": "code",
   "execution_count": 32,
   "metadata": {},
   "outputs": [
    {
     "data": {
      "text/plain": [
       "0         4\n",
       "1         4\n",
       "2         4\n",
       "3         4\n",
       "4         4\n",
       "         ..\n",
       "253846    1\n",
       "253847    1\n",
       "253848    1\n",
       "253849    1\n",
       "253850    1\n",
       "Name: month, Length: 253851, dtype: int64"
      ]
     },
     "execution_count": 32,
     "metadata": {},
     "output_type": "execute_result"
    }
   ],
   "source": [
    "train_df.month"
   ]
  },
  {
   "cell_type": "code",
   "execution_count": 33,
   "metadata": {},
   "outputs": [],
   "source": [
    "train_df['timestamp'] = train_df['timestamp_x']\n",
    "train_df.drop(columns=['timestamp_x', 'timestamp_y'], inplace=True)"
   ]
  },
  {
   "cell_type": "code",
   "execution_count": 36,
   "metadata": {},
   "outputs": [],
   "source": [
    "# Convert 'timestamp' column to datetime format\n",
    "train_df['timestamp'] = pd.to_datetime(train_df['timestamp'])\n",
    "\n",
    "# Create the 'season' column based on the 'timestamp' column\n",
    "train_df['season'] = train_df['timestamp'].apply(lambda x: 'Spring' if x.month in [3, 4, 5]\n",
    "                                                  else 'Summer' if x.month in [6, 7, 8]\n",
    "                                                  else 'Autumn' if x.month in [9, 10, 11]\n",
    "                                                  else 'Winter')"
   ]
  },
  {
   "cell_type": "markdown",
   "metadata": {},
   "source": [
    "## Adding isDaytime feature"
   ]
  },
  {
   "cell_type": "code",
   "execution_count": 37,
   "metadata": {},
   "outputs": [],
   "source": [
    "train_df['IsDayTime']= train_df['timestamp'].apply(lambda x: 1 if x.hour >=6 and x.hour <=18 else 0)\n"
   ]
  },
  {
   "cell_type": "markdown",
   "metadata": {},
   "source": [
    "## Adding Relative Humidity"
   ]
  },
  {
   "attachments": {
    "image.png": {
     "image/png": "[encoded data removed]"
    }
   },
   "cell_type": "markdown",
   "metadata": {},
   "source": [
    "![image.png](attachment:image.png)"
   ]
  },
  {
   "cell_type": "code",
   "execution_count": 38,
   "metadata": {},
   "outputs": [],
   "source": [
    "train_df['relative_humidity']= 100*((np.exp((17.67*train_df['dew_temperature'])/\n",
    "                                            (243.5+train_df['dew_temperature'])))/(np.exp((17.67*train_df['air_temperature'])/\n",
    "                                                                                          (243.5+train_df['air_temperature']))))\n"
   ]
  },
  {
   "cell_type": "code",
   "execution_count": 39,
   "metadata": {},
   "outputs": [],
   "source": [
    "train_df.to_csv(r'C:\\Users\\imate\\Documents\\24.9.Notebooks_training\\Final-pipeline\\data\\processed\\fe_data_train.csv')"
   ]
  }
 ],
 "metadata": {
  "kernelspec": {
   "display_name": "venv",
   "language": "python",
   "name": "python3"
  },
  "language_info": {
   "codemirror_mode": {
    "name": "ipython",
    "version": 3
   },
   "file_extension": ".py",
   "mimetype": "text/x-python",
   "name": "python",
   "nbconvert_exporter": "python",
   "pygments_lexer": "ipython3",
   "version": "3.11.1"
  }
 },
 "nbformat": 4,
 "nbformat_minor": 2
}
