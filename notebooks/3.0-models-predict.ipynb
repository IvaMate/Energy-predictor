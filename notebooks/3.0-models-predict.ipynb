{
 "cells": [
  {
   "cell_type": "code",
   "execution_count": null,
   "metadata": {},
   "outputs": [],
   "source": [
    "import pandas as pd\n",
    "import numpy as np\n",
    "import matplotlib.pyplot as plt\n",
    "import seaborn as sns\n",
    "import math\n",
    "from sklearn.model_selection import train_test_split\n",
    "from sklearn.preprocessing import normalize\n",
    "from sklearn.metrics import confusion_matrix, f1_score\n",
    "from sklearn.tree import DecisionTreeClassifier\n",
    "from sklearn.model_selection import RandomizedSearchCV\n",
    "from sklearn.ensemble import RandomForestClassifier\n",
    "from sklearn.calibration import CalibratedClassifierCV\n",
    "#from xgboost import XGBClassifier\n",
    "from sklearn.tree import DecisionTreeRegressor\n",
    "from sklearn.ensemble import RandomForestRegressor\n",
    "#from xgboost import XGBRegressor\n",
    "import pickle\n",
    "import joblib\n",
    "#from tqdm import tqdm\n",
    "from sklearn.metrics import mean_squared_error\n",
    "from sklearn.ensemble import AdaBoostRegressor\n",
    "#import lightgbm as lgb\n",
    "import os"
   ]
  },
  {
   "cell_type": "code",
   "execution_count": null,
   "metadata": {},
   "outputs": [],
   "source": [
    "path = r\"C:\\Users\\imate\\Documents\\24.9.Notebooks_training\\Energy-predictor\\reports\"\n",
    "path2=r'C:\\Users\\imate\\Documents\\24.9.Notebooks_training\\Energy-predictor\\data\\2_processed'\n",
    "\n",
    "\n",
    "X_train_f = os.path.join(path2, \"2_test.ftr\")\n",
    "X_test= pd.read_feather(X_train_f)"
   ]
  },
  {
   "cell_type": "markdown",
   "metadata": {},
   "source": [
    "- DT"
   ]
  },
  {
   "cell_type": "markdown",
   "metadata": {},
   "source": [
    "dt_reg=joblib.load('decision_tree_reg.sav')\n",
    "predictions=pd.DataFrame()\n",
    "predictions['row_id']=X_test['row_id']\n",
    "X_test.drop(['row_id'], axis=1, inplace=True)\n",
    "predictions['log_meter_reading']= dt_reg.predict(X_test)\n",
    "predictions['meter_reading']= np.expm1(predictions['log_meter_reading'])\n",
    "predictions.drop(['log_meter_reading'], axis=1,inplace=True)\n",
    "\n",
    "output = os.path.join(path, \"Decision_tree_predictions.csv\")\n",
    "predictions.to_csv(output, index=False)"
   ]
  },
  {
   "cell_type": "markdown",
   "metadata": {},
   "source": [
    "- LGB GBDT"
   ]
  },
  {
   "cell_type": "markdown",
   "metadata": {},
   "source": [
    "gbdt_reg=joblib.load('lgb_reg.sav')\n",
    "predictions['log_meter_reading']= gbdt_reg.predict(X_test)\n",
    "predictions.drop(['meter_reading'], axis=1,inplace=True)\n",
    "predictions['meter_reading']= np.expm1(predictions['log_meter_reading'])\n",
    "predictions.drop(['log_meter_reading'], axis=1,inplace=True)\n",
    "\n",
    "output = os.path.join(path, \"LGB_GBDT_predictions.csv\")\n",
    "predictions.to_csv(output, index=False)"
   ]
  },
  {
   "cell_type": "markdown",
   "metadata": {},
   "source": [
    "- RF"
   ]
  },
  {
   "cell_type": "markdown",
   "metadata": {},
   "source": [
    "rf_reg=joblib.load('rf_reg.sav')\n",
    "predictions['log_meter_reading']= rf_reg.predict(X_test)\n",
    "predictions.drop(['meter_reading'], axis=1,inplace=True)\n",
    "predictions['meter_reading']= np.expm1(predictions['log_meter_reading'])\n",
    "predictions.drop(['log_meter_reading'], axis=1,inplace=True)\n",
    "\n",
    "output = os.path.join(path, \"RF_predictions.csv\")\n",
    "predictions.to_csv(output, index=False)"
   ]
  },
  {
   "cell_type": "markdown",
   "metadata": {},
   "source": [
    "- CatBoost GBDT"
   ]
  },
  {
   "cell_type": "markdown",
   "metadata": {},
   "source": [
    "cb_reg=joblib.load('cb_reg.sav')\n",
    "predictions['log_meter_reading']= cb_reg.predict(X_test)\n",
    "predictions['meter_reading']= np.expm1(predictions['log_meter_reading'])\n",
    "predictions.drop(['log_meter_reading'], axis=1,inplace=True)\n",
    "\n",
    "output = os.path.join(path, \"CB_predictions.csv\")\n",
    "predictions.to_csv(output, index=False)"
   ]
  }
 ],
 "metadata": {
  "language_info": {
   "name": "python"
  }
 },
 "nbformat": 4,
 "nbformat_minor": 2
}
