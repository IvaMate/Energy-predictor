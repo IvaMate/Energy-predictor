{
 "cells": [
  {
   "cell_type": "code",
   "execution_count": 1,
   "metadata": {},
   "outputs": [],
   "source": [
    "import pandas as pd\n",
    "import numpy as np\n",
    "import matplotlib.pyplot as plt\n",
    "import seaborn as sns\n",
    "import holidays\n",
    "import os"
   ]
  },
  {
   "cell_type": "code",
   "execution_count": 2,
   "metadata": {},
   "outputs": [],
   "source": [
    "base_path = r\"C:\\Users\\imate\\Documents\\24.9.Notebooks_training\\Energy-predictor\\data\\1_interim\"\n",
    "train_file = os.path.join(base_path, \"1_cleaned_train.csv\")\n",
    "train_df=pd.read_csv(train_file)"
   ]
  },
  {
   "cell_type": "markdown",
   "metadata": {},
   "source": [
    "# Features"
   ]
  },
  {
   "cell_type": "markdown",
   "metadata": {},
   "source": [
    "- Holiday"
   ]
  },
  {
   "cell_type": "code",
   "execution_count": 13,
   "metadata": {},
   "outputs": [],
   "source": [
    "\n",
    "location_df= pd.DataFrame()\n",
    "location_df['site_id']= np.arange(0,16)\n",
    "location_df['city']= ['Orlando', 'Heathrow', 'Tempe', 'Washington', 'Berkeley', 'Southampton', 'Washington', 'Ottowa', 'Orlando', 'Austin', 'Saltlake',\\\n",
    "                  'Ottowa', 'Dublin', 'Minneapolis', 'Philadelphia', 'Rochestor']\n",
    "\n",
    "location_df['country']= ['US', 'UK', 'US', 'US', 'US', 'UK', 'US', 'Canada', 'US', 'US', 'US', 'Canada', 'Ireland', 'US', 'US', 'US']\n",
    "train_df=train_df.merge(location_df, on='site_id', how='left')\n",
    "\n",
    "UK=[]\n",
    "US=[]\n",
    "CA=[]\n",
    "IRE=[]\n",
    "\n",
    "for ptr in holidays.UnitedKingdom(years = 2016).keys():\n",
    "    UK.append(str(ptr))\n",
    "for ptr in holidays.UnitedKingdom(years = 2017).keys():\n",
    "    UK.append(str(ptr))\n",
    "for ptr in holidays.UnitedKingdom(years = 2018).keys():\n",
    "    UK.append(str(ptr))\n",
    "UK.append('2019-01-01')\n",
    "\n",
    "\n",
    "for ptr in holidays.UnitedStates(years = 2016).keys():\n",
    "    US.append(str(ptr))\n",
    "for ptr in holidays.UnitedStates(years = 2017).keys():\n",
    "    US.append(str(ptr))\n",
    "for ptr in holidays.UnitedStates(years = 2018).keys():\n",
    "    US.append(str(ptr))\n",
    "US.append('2019-01-01')\n",
    "\n",
    "\n",
    "for ptr in holidays.Canada(years = 2016).keys():\n",
    "    CA.append(str(ptr))\n",
    "for ptr in holidays.Canada(years = 2017).keys():\n",
    "    CA.append(str(ptr))\n",
    "for ptr in holidays.Canada(years = 2018).keys():\n",
    "    CA.append(str(ptr))\n",
    "CA.append('2019-01-01')\n",
    "\n",
    "\n",
    "for ptr in holidays.Ireland(years = 2016).keys():\n",
    "    IRE.append(str(ptr))\n",
    "for ptr in holidays.Ireland(years = 2017).keys():\n",
    "    IRE.append(str(ptr))\n",
    "for ptr in holidays.Ireland(years = 2018).keys():\n",
    "    IRE.append(str(ptr))\n",
    "IRE.append('2019-01-01')\n",
    "\n",
    "def holiday_filler(df):\n",
    "  df['isHoliday']=[0]*(df.shape[0])\n",
    "  df.loc[df['country']=='US', 'isHoliday']= (df['timestamp'].dt.date.astype('str').isin(US)).astype('int')\n",
    "  df.loc[df['country']=='UK', 'isHoliday']= (df['timestamp'].dt.date.astype('str').isin(UK)).astype('int')\n",
    "  df.loc[df['country']=='Canada', 'isHoliday']= (df['timestamp'].dt.date.astype('str').isin(CA)).astype('int')\n",
    "  df.loc[df['country']=='Ireland', 'isHoliday']= (df['timestamp'].dt.date.astype('str').isin(IRE)).astype('int')\n",
    "\n",
    "  return df"
   ]
  },
  {
   "cell_type": "markdown",
   "metadata": {},
   "source": [
    "- Season"
   ]
  },
  {
   "cell_type": "code",
   "execution_count": 7,
   "metadata": {},
   "outputs": [],
   "source": [
    "# Convert 'timestamp' column to datetime format\n",
    "train_df['timestamp'] = pd.to_datetime(train_df['timestamp'])\n",
    "\n",
    "# Create the 'season' column based on the 'timestamp' column\n",
    "train_df['season'] = train_df['timestamp'].apply(lambda x: 'Spring' if x.month in [3, 4, 5]\n",
    "                                                  else 'Summer' if x.month in [6, 7, 8]\n",
    "                                                  else 'Autumn' if x.month in [9, 10, 11]\n",
    "                                                  else 'Winter')"
   ]
  },
  {
   "cell_type": "markdown",
   "metadata": {},
   "source": [
    "- isDaytime"
   ]
  },
  {
   "cell_type": "code",
   "execution_count": 8,
   "metadata": {},
   "outputs": [],
   "source": [
    "train_df['IsDayTime']= train_df['timestamp'].apply(lambda x: 1 if x.hour >=6 and x.hour <=18 else 0)"
   ]
  },
  {
   "cell_type": "markdown",
   "metadata": {},
   "source": [
    "- relative humidity"
   ]
  },
  {
   "cell_type": "code",
   "execution_count": 9,
   "metadata": {},
   "outputs": [],
   "source": [
    "train_df['relative_humidity']= 100*((np.exp((17.67*train_df['dew_temperature'])/\n",
    "                                            (243.5+train_df['dew_temperature'])))/(np.exp((17.67*train_df['air_temperature'])/\n",
    "                                                                                          (243.5+train_df['air_temperature']))))\n"
   ]
  },
  {
   "cell_type": "code",
   "execution_count": null,
   "metadata": {},
   "outputs": [],
   "source": [
    "#Output\n",
    "train_df.to_csv(r'C:\\Users\\imate\\Documents\\24.9.Notebooks_training\\Final-pipeline\\data\\2_processed\\2_fe_train.csv', index=False)\n"
   ]
  },
  {
   "cell_type": "markdown",
   "metadata": {},
   "source": [
    "# Test_dataset features"
   ]
  },
  {
   "cell_type": "code",
   "execution_count": null,
   "metadata": {},
   "outputs": [],
   "source": [
    "test_file = os.path.join(base_path, \"1_cleaned_test.csv\")\n",
    "test_df=pd.read_csv(test_file)\n",
    "test_df['timestamp'] = pd.to_datetime(test_df['timestamp'], format='%Y-%m-%d %H:%M:%S', errors='coerce')\n"
   ]
  },
  {
   "cell_type": "code",
   "execution_count": 11,
   "metadata": {},
   "outputs": [],
   "source": [
    "#adding features in test data\n",
    "test_df['season']= test_df['timestamp'].apply(lambda x: 'Spring' if x.month==3 or x.month==4 or x.month==5 else 'Summer' if x.month==6 or x.month==7 or x.month==8 \n",
    "                                                else 'Autumn' if x.month==9 or x.month==10 or \n",
    "                                                x.month==11 else 'Winter')\n",
    "test_df['IsDayTime']= test_df['timestamp'].apply(lambda x: 1 if x.hour >=6 and x.hour <=18 else 0)\n",
    "test_df['relative_humidity']= 100*((np.exp((17.67*test_df['dew_temperature'])/(243.5+test_df['dew_temperature'])))/(np.exp((17.67*test_df['air_temperature'])/(243.5+test_df['air_temperature']))))\n"
   ]
  },
  {
   "cell_type": "code",
   "execution_count": 14,
   "metadata": {},
   "outputs": [],
   "source": [
    "test_df=test_df.merge(location_df, on='site_id', how='left')"
   ]
  },
  {
   "cell_type": "code",
   "execution_count": 15,
   "metadata": {},
   "outputs": [],
   "source": [
    "test_df= holiday_filler(test_df)"
   ]
  },
  {
   "cell_type": "code",
   "execution_count": 16,
   "metadata": {},
   "outputs": [],
   "source": [
    "test_df['square_feet']=np.log1p(test_df['square_feet'])\n",
    "test_df.drop(['city','country'], axis=1, inplace=True)"
   ]
  },
  {
   "cell_type": "code",
   "execution_count": 18,
   "metadata": {},
   "outputs": [],
   "source": [
    "#Output\n",
    "test_df.to_csv(r'C:\\Users\\imate\\Documents\\24.9.Notebooks_training\\Energy-predictor\\data\\2_processed\\2_fe_test.csv', index=False)"
   ]
  }
 ],
 "metadata": {
  "kernelspec": {
   "display_name": "venv",
   "language": "python",
   "name": "python3"
  },
  "language_info": {
   "codemirror_mode": {
    "name": "ipython",
    "version": 3
   },
   "file_extension": ".py",
   "mimetype": "text/x-python",
   "name": "python",
   "nbconvert_exporter": "python",
   "pygments_lexer": "ipython3",
   "version": "3.11.1"
  }
 },
 "nbformat": 4,
 "nbformat_minor": 2
}
