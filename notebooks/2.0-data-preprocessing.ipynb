{
 "cells": [
  {
   "cell_type": "code",
   "execution_count": 2,
   "metadata": {},
   "outputs": [],
   "source": [
    "import pandas as pd\n",
    "import numpy as np\n",
    "import matplotlib.pyplot as plt\n",
    "import seaborn as sns\n",
    "import math\n",
    "from sklearn.model_selection import train_test_split\n",
    "from sklearn.preprocessing import normalize\n",
    "from sklearn.metrics import confusion_matrix, f1_score\n",
    "from sklearn.tree import DecisionTreeClassifier\n",
    "from sklearn.model_selection import RandomizedSearchCV\n",
    "from sklearn.ensemble import RandomForestClassifier\n",
    "from sklearn.calibration import CalibratedClassifierCV\n",
    "#from xgboost import XGBClassifier\n",
    "from sklearn.tree import DecisionTreeRegressor\n",
    "from sklearn.ensemble import RandomForestRegressor\n",
    "#from xgboost import XGBRegressor\n",
    "import pickle\n",
    "import joblib\n",
    "#from tqdm import tqdm\n",
    "from sklearn.metrics import mean_squared_error\n",
    "from sklearn.ensemble import AdaBoostRegressor\n",
    "#import lightgbm as lgb\n",
    "import os"
   ]
  },
  {
   "cell_type": "code",
   "execution_count": 3,
   "metadata": {},
   "outputs": [],
   "source": [
    "base_path = r\"C:\\Users\\imate\\Documents\\24.9.Notebooks_training\\Energy-predictor\\data\\2_processed\"\n",
    "train_file = os.path.join(base_path, \"2_fe_train.csv\")\n",
    "test_file = os.path.join(base_path, \"2_fe_test.csv\")\n",
    "train_df=pd.read_csv(train_file)\n",
    "test_df=pd.read_csv(test_file)\n"
   ]
  },
  {
   "cell_type": "code",
   "execution_count": 4,
   "metadata": {},
   "outputs": [],
   "source": [
    "base_path = r\"C:\\Users\\imate\\Documents\\24.9.Notebooks_training\\Energy-predictor\\data\\0_raw\"\n",
    "mtrain_file = os.path.join(base_path, \"0_merged_train.csv\")\n",
    "mtest_file = os.path.join(base_path, \"0_merged_test.csv\")\n",
    "mtr=pd.read_csv(mtrain_file)\n",
    "mte=pd.read_csv(mtest_file)"
   ]
  },
  {
   "cell_type": "markdown",
   "metadata": {},
   "source": [
    "# Log transformation"
   ]
  },
  {
   "cell_type": "markdown",
   "metadata": {},
   "source": [
    "- square_feet, meter_readings"
   ]
  },
  {
   "cell_type": "code",
   "execution_count": 5,
   "metadata": {},
   "outputs": [],
   "source": [
    "#train_df['meter_reading']=np.log1p(train_df['meter_reading'])\n",
    "#train_df['square_feet']=np.log1p(train_df['square_feet'])\n",
    "#test_df['square_feet']=np.log1p(test_df['square_feet'])"
   ]
  },
  {
   "cell_type": "markdown",
   "metadata": {},
   "source": [
    "# Label encoding "
   ]
  },
  {
   "cell_type": "markdown",
   "metadata": {},
   "source": [
    "- primary_use, season"
   ]
  },
  {
   "cell_type": "markdown",
   "metadata": {},
   "source": [
    "0- 'Office', \n",
    "1- 'Education', \n",
    "2- 'Entertainment/public assembly',       \n",
    "3- 'Public services', \n",
    "\n",
    "4- 'Technology/science', \n",
    "5- 'Parking',\n",
    "6-'Food sales and service'\n",
    "\n",
    "7- 'Lodging/residential', \n",
    "8- 'Other', \n",
    "9- 'Services', \n",
    "10- 'Healthcare'"
   ]
  },
  {
   "cell_type": "code",
   "execution_count": 6,
   "metadata": {},
   "outputs": [
    {
     "data": {
      "text/plain": [
       "array(['Office', 'Education', 'Entertainment/public assembly',\n",
       "       'Public services', 'Technology/science', 'Parking',\n",
       "       'Food sales and service'], dtype=object)"
      ]
     },
     "execution_count": 6,
     "metadata": {},
     "output_type": "execute_result"
    }
   ],
   "source": [
    "train_df.primary_use.unique()"
   ]
  },
  {
   "cell_type": "code",
   "execution_count": 7,
   "metadata": {},
   "outputs": [
    {
     "data": {
      "text/plain": [
       "array(['Spring', 'Autumn', 'Summer', 'Winter'], dtype=object)"
      ]
     },
     "execution_count": 7,
     "metadata": {},
     "output_type": "execute_result"
    }
   ],
   "source": [
    "train_df.season.unique()"
   ]
  },
  {
   "cell_type": "code",
   "execution_count": 8,
   "metadata": {},
   "outputs": [
    {
     "data": {
      "text/plain": [
       "array(['Lodging/residential', 'Education',\n",
       "       'Entertainment/public assembly', 'Other', 'Public services',\n",
       "       'Office', 'Services', 'Healthcare'], dtype=object)"
      ]
     },
     "execution_count": 8,
     "metadata": {},
     "output_type": "execute_result"
    }
   ],
   "source": [
    "test_df.primary_use.unique()"
   ]
  },
  {
   "cell_type": "code",
   "execution_count": 9,
   "metadata": {},
   "outputs": [
    {
     "data": {
      "text/plain": [
       "array(['Winter', 'Spring', 'Autumn', 'Summer'], dtype=object)"
      ]
     },
     "execution_count": 9,
     "metadata": {},
     "output_type": "execute_result"
    }
   ],
   "source": [
    "test_df.season.unique()"
   ]
  },
  {
   "cell_type": "code",
   "execution_count": 10,
   "metadata": {},
   "outputs": [
    {
     "data": {
      "text/html": [
       "<div>\n",
       "<style scoped>\n",
       "    .dataframe tbody tr th:only-of-type {\n",
       "        vertical-align: middle;\n",
       "    }\n",
       "\n",
       "    .dataframe tbody tr th {\n",
       "        vertical-align: top;\n",
       "    }\n",
       "\n",
       "    .dataframe thead th {\n",
       "        text-align: right;\n",
       "    }\n",
       "</style>\n",
       "<table border=\"1\" class=\"dataframe\">\n",
       "  <thead>\n",
       "    <tr style=\"text-align: right;\">\n",
       "      <th></th>\n",
       "      <th>site_id</th>\n",
       "      <th>primary_use</th>\n",
       "      <th>meter_reading</th>\n",
       "    </tr>\n",
       "  </thead>\n",
       "  <tbody>\n",
       "    <tr>\n",
       "      <th>0</th>\n",
       "      <td>1</td>\n",
       "      <td>Office</td>\n",
       "      <td>21.300000</td>\n",
       "    </tr>\n",
       "    <tr>\n",
       "      <th>1</th>\n",
       "      <td>2</td>\n",
       "      <td>Education</td>\n",
       "      <td>512.745000</td>\n",
       "    </tr>\n",
       "    <tr>\n",
       "      <th>2</th>\n",
       "      <td>2</td>\n",
       "      <td>Office</td>\n",
       "      <td>128.370000</td>\n",
       "    </tr>\n",
       "    <tr>\n",
       "      <th>3</th>\n",
       "      <td>3</td>\n",
       "      <td>Entertainment/public assembly</td>\n",
       "      <td>29.180000</td>\n",
       "    </tr>\n",
       "    <tr>\n",
       "      <th>4</th>\n",
       "      <td>4</td>\n",
       "      <td>Education</td>\n",
       "      <td>9.250000</td>\n",
       "    </tr>\n",
       "    <tr>\n",
       "      <th>5</th>\n",
       "      <td>5</td>\n",
       "      <td>Education</td>\n",
       "      <td>5.000000</td>\n",
       "    </tr>\n",
       "    <tr>\n",
       "      <th>6</th>\n",
       "      <td>5</td>\n",
       "      <td>Office</td>\n",
       "      <td>20.200000</td>\n",
       "    </tr>\n",
       "    <tr>\n",
       "      <th>7</th>\n",
       "      <td>5</td>\n",
       "      <td>Public services</td>\n",
       "      <td>30.700000</td>\n",
       "    </tr>\n",
       "    <tr>\n",
       "      <th>8</th>\n",
       "      <td>6</td>\n",
       "      <td>Entertainment/public assembly</td>\n",
       "      <td>2.291900</td>\n",
       "    </tr>\n",
       "    <tr>\n",
       "      <th>9</th>\n",
       "      <td>8</td>\n",
       "      <td>Entertainment/public assembly</td>\n",
       "      <td>4.166700</td>\n",
       "    </tr>\n",
       "    <tr>\n",
       "      <th>10</th>\n",
       "      <td>8</td>\n",
       "      <td>Public services</td>\n",
       "      <td>10.958300</td>\n",
       "    </tr>\n",
       "    <tr>\n",
       "      <th>11</th>\n",
       "      <td>9</td>\n",
       "      <td>Education</td>\n",
       "      <td>406.354667</td>\n",
       "    </tr>\n",
       "    <tr>\n",
       "      <th>12</th>\n",
       "      <td>9</td>\n",
       "      <td>Office</td>\n",
       "      <td>247.000000</td>\n",
       "    </tr>\n",
       "    <tr>\n",
       "      <th>13</th>\n",
       "      <td>9</td>\n",
       "      <td>Public services</td>\n",
       "      <td>40.000000</td>\n",
       "    </tr>\n",
       "    <tr>\n",
       "      <th>14</th>\n",
       "      <td>10</td>\n",
       "      <td>Education</td>\n",
       "      <td>32.000100</td>\n",
       "    </tr>\n",
       "    <tr>\n",
       "      <th>15</th>\n",
       "      <td>10</td>\n",
       "      <td>Office</td>\n",
       "      <td>24.250000</td>\n",
       "    </tr>\n",
       "    <tr>\n",
       "      <th>16</th>\n",
       "      <td>10</td>\n",
       "      <td>Technology/science</td>\n",
       "      <td>0.000000</td>\n",
       "    </tr>\n",
       "    <tr>\n",
       "      <th>17</th>\n",
       "      <td>12</td>\n",
       "      <td>Education</td>\n",
       "      <td>16.900000</td>\n",
       "    </tr>\n",
       "    <tr>\n",
       "      <th>18</th>\n",
       "      <td>12</td>\n",
       "      <td>Public services</td>\n",
       "      <td>90.983300</td>\n",
       "    </tr>\n",
       "    <tr>\n",
       "      <th>19</th>\n",
       "      <td>13</td>\n",
       "      <td>Parking</td>\n",
       "      <td>4.123300</td>\n",
       "    </tr>\n",
       "    <tr>\n",
       "      <th>20</th>\n",
       "      <td>14</td>\n",
       "      <td>Entertainment/public assembly</td>\n",
       "      <td>0.000000</td>\n",
       "    </tr>\n",
       "    <tr>\n",
       "      <th>21</th>\n",
       "      <td>14</td>\n",
       "      <td>Food sales and service</td>\n",
       "      <td>753.196000</td>\n",
       "    </tr>\n",
       "    <tr>\n",
       "      <th>22</th>\n",
       "      <td>14</td>\n",
       "      <td>Office</td>\n",
       "      <td>16.118400</td>\n",
       "    </tr>\n",
       "    <tr>\n",
       "      <th>23</th>\n",
       "      <td>15</td>\n",
       "      <td>Education</td>\n",
       "      <td>65.750000</td>\n",
       "    </tr>\n",
       "    <tr>\n",
       "      <th>24</th>\n",
       "      <td>15</td>\n",
       "      <td>Public services</td>\n",
       "      <td>66.411700</td>\n",
       "    </tr>\n",
       "  </tbody>\n",
       "</table>\n",
       "</div>"
      ],
      "text/plain": [
       "    site_id                    primary_use  meter_reading\n",
       "0         1                         Office      21.300000\n",
       "1         2                      Education     512.745000\n",
       "2         2                         Office     128.370000\n",
       "3         3  Entertainment/public assembly      29.180000\n",
       "4         4                      Education       9.250000\n",
       "5         5                      Education       5.000000\n",
       "6         5                         Office      20.200000\n",
       "7         5                Public services      30.700000\n",
       "8         6  Entertainment/public assembly       2.291900\n",
       "9         8  Entertainment/public assembly       4.166700\n",
       "10        8                Public services      10.958300\n",
       "11        9                      Education     406.354667\n",
       "12        9                         Office     247.000000\n",
       "13        9                Public services      40.000000\n",
       "14       10                      Education      32.000100\n",
       "15       10                         Office      24.250000\n",
       "16       10             Technology/science       0.000000\n",
       "17       12                      Education      16.900000\n",
       "18       12                Public services      90.983300\n",
       "19       13                        Parking       4.123300\n",
       "20       14  Entertainment/public assembly       0.000000\n",
       "21       14         Food sales and service     753.196000\n",
       "22       14                         Office      16.118400\n",
       "23       15                      Education      65.750000\n",
       "24       15                Public services      66.411700"
      ]
     },
     "execution_count": 10,
     "metadata": {},
     "output_type": "execute_result"
    }
   ],
   "source": [
    "#baseline model\n",
    "y_pred_df= train_df.groupby(['site_id', 'primary_use'])['meter_reading'].mean().reset_index()\n",
    "y_pred_df"
   ]
  },
  {
   "cell_type": "code",
   "execution_count": 11,
   "metadata": {},
   "outputs": [],
   "source": [
    "train_df=train_df.sort_values(by='timestamp')\n",
    "X_train, X_cv= train_test_split(train_df, test_size=0.20, shuffle=False)\n",
    "\n",
    "#y_pred for baseline\n",
    "y_pred_df.rename(columns={\"meter_reading\": \"y_pred_base\"}, inplace=True)\n",
    "X_train= X_train.merge(y_pred_df, on=['site_id', 'primary_use'], how='left')\n",
    "X_cv= X_cv.merge(y_pred_df,on=['site_id', 'primary_use'], how='left')"
   ]
  },
  {
   "cell_type": "code",
   "execution_count": 12,
   "metadata": {},
   "outputs": [
    {
     "name": "stdout",
     "output_type": "stream",
     "text": [
      "RMSE for baseline model for train data: 146.93853536413158\n",
      "RMSE for baseline model for cv data: 90.50837317728028\n"
     ]
    }
   ],
   "source": [
    "#rsmle score for baseline model\n",
    "rmse_base_tr=math.sqrt(mean_squared_error(X_train['meter_reading'], X_train['y_pred_base']))\n",
    "rmse_base_cv=math.sqrt(mean_squared_error(X_cv['meter_reading'], X_cv['y_pred_base']))\n",
    "print(\"RMSE for baseline model for train data:\", rmse_base_tr)\n",
    "print(\"RMSE for baseline model for cv data:\", rmse_base_cv)"
   ]
  },
  {
   "cell_type": "code",
   "execution_count": 13,
   "metadata": {},
   "outputs": [],
   "source": [
    "#Label encoding primary use variables\n",
    "from sklearn.preprocessing import LabelEncoder\n",
    "\n",
    "label_enc= LabelEncoder()\n",
    "label_enc.fit(train_df['primary_use'])\n",
    "X_train['primary_use']= label_enc.transform(X_train['primary_use'])\n",
    "X_cv['primary_use']= label_enc.transform(X_cv['primary_use'])\n"
   ]
  },
  {
   "cell_type": "code",
   "execution_count": 14,
   "metadata": {},
   "outputs": [],
   "source": [
    "label_enc.fit(test_df['primary_use'])\n",
    "test_df['primary_use']= label_enc.transform(test_df['primary_use'])"
   ]
  },
  {
   "cell_type": "code",
   "execution_count": 15,
   "metadata": {},
   "outputs": [],
   "source": [
    "label_enc.fit(train_df['season'])\n",
    "\n",
    "X_train['season']= label_enc.transform(X_train['season'])\n",
    "X_cv['season']= label_enc.transform(X_cv['season'])\n",
    "test_df['season']= label_enc.transform(test_df['season'])\n"
   ]
  },
  {
   "cell_type": "code",
   "execution_count": 16,
   "metadata": {},
   "outputs": [],
   "source": [
    "\n",
    "y_readings_tr=X_train['meter_reading']\n",
    "y_readings_cv=X_cv['meter_reading']\n",
    "\n",
    "X_train.drop(['meter_reading', 'y_pred_base'], axis=1, inplace=True)\n",
    "X_cv.drop(['meter_reading', 'y_pred_base'], axis=1, inplace=True)"
   ]
  },
  {
   "cell_type": "markdown",
   "metadata": {},
   "source": [
    "# Multicollinearity"
   ]
  },
  {
   "cell_type": "markdown",
   "metadata": {},
   "source": [
    "- variance inflation factor for all columns"
   ]
  },
  {
   "cell_type": "code",
   "execution_count": 17,
   "metadata": {},
   "outputs": [],
   "source": [
    "from statsmodels.stats.outliers_influence import variance_inflation_factor\n",
    "s=X_train._get_numeric_data()\n",
    "vif = pd.DataFrame()\n",
    "vif[\"VIF Factor\"] = [variance_inflation_factor(s.values, i) for i in range(s.shape[1])]\n",
    "vif[\"features\"] = s.columns"
   ]
  },
  {
   "cell_type": "code",
   "execution_count": 18,
   "metadata": {},
   "outputs": [],
   "source": [
    "\n",
    "import pyarrow \n",
    "X_train.drop(['site_id', 'dew_temperature','timestamp','year','dayofyear','city','country'],axis=1,inplace=True)\n",
    "X_cv.drop(['site_id', 'dew_temperature','timestamp','year','dayofyear','city','country'],axis=1,inplace=True)\n",
    "test_df.drop(['site_id', 'dew_temperature','timestamp','year','dayofyear'],axis=1,inplace=True)\n",
    "\n",
    "\n",
    "#Saving final data in files\n",
    "test_df.to_feather(r'C:\\Users\\imate\\Documents\\24.9.Notebooks_training\\Energy-predictor\\data\\2_processed\\2_test.ftr')\n",
    "#Converting pandas series to numpy\n",
    "y_readings_tr=y_readings_tr.to_numpy()\n",
    "y_readings_cv=y_readings_cv.to_numpy()\n",
    "X_train.to_feather(r'C:\\Users\\imate\\Documents\\24.9.Notebooks_training\\Energy-predictor\\data\\2_processed\\2_X_train_new.ftr')\n",
    "X_cv.to_feather(r'C:\\Users\\imate\\Documents\\24.9.Notebooks_training\\Energy-predictor\\data\\2_processed\\2_X_cv_new.ftr')\n",
    "np.save(r'C:\\Users\\imate\\Documents\\24.9.Notebooks_training\\Energy-predictor\\reports\\y_readings_tr_new.npy', y_readings_tr)\n",
    "np.save(r'C:\\Users\\imate\\Documents\\24.9.Notebooks_training\\Energy-predictor\\reports\\y_readings_cv_new.npy',y_readings_cv)"
   ]
  },
  {
   "cell_type": "code",
   "execution_count": null,
   "metadata": {},
   "outputs": [],
   "source": []
  }
 ],
 "metadata": {
  "kernelspec": {
   "display_name": "venv",
   "language": "python",
   "name": "python3"
  },
  "language_info": {
   "codemirror_mode": {
    "name": "ipython",
    "version": 3
   },
   "file_extension": ".py",
   "mimetype": "text/x-python",
   "name": "python",
   "nbconvert_exporter": "python",
   "pygments_lexer": "ipython3",
   "version": "3.11.1"
  }
 },
 "nbformat": 4,
 "nbformat_minor": 2
}
