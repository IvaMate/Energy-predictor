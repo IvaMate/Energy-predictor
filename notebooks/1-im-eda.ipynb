{
 "cells": [
  {
   "cell_type": "code",
   "execution_count": 5,
   "metadata": {},
   "outputs": [],
   "source": [
    "import pandas as pd"
   ]
  },
  {
   "cell_type": "code",
   "execution_count": 20,
   "metadata": {},
   "outputs": [
    {
     "ename": "MemoryError",
     "evalue": "Unable to allocate 11.5 GiB for an array with shape (1540356829,) and data type int64",
     "output_type": "error",
     "traceback": [
      "\u001b[1;31m---------------------------------------------------------------------------\u001b[0m",
      "\u001b[1;31mMemoryError\u001b[0m                               Traceback (most recent call last)",
      "\u001b[1;32mc:\\Users\\imate\\Documents\\24.9.Notebooks_training\\Final-pipeline\\notebooks\\1-im-eda.ipynb Cell 2\u001b[0m line \u001b[0;36m2\n\u001b[0;32m     <a href='vscode-notebook-cell:/c%3A/Users/imate/Documents/24.9.Notebooks_training/Final-pipeline/notebooks/1-im-eda.ipynb#W1sZmlsZQ%3D%3D?line=22'>23</a>\u001b[0m building_file \u001b[39m=\u001b[39m \u001b[39mr\u001b[39m\u001b[39m\"\u001b[39m\u001b[39mC:\u001b[39m\u001b[39m\\\u001b[39m\u001b[39mUsers\u001b[39m\u001b[39m\\\u001b[39m\u001b[39mimate\u001b[39m\u001b[39m\\\u001b[39m\u001b[39mDocuments\u001b[39m\u001b[39m\\\u001b[39m\u001b[39m24.9.Notebooks_training\u001b[39m\u001b[39m\\\u001b[39m\u001b[39mFinal-pipeline\u001b[39m\u001b[39m\\\u001b[39m\u001b[39mdata\u001b[39m\u001b[39m\\\u001b[39m\u001b[39mraw\u001b[39m\u001b[39m\\\u001b[39m\u001b[39mbuilding_metadata.csv\u001b[39m\u001b[39m\"\u001b[39m\n\u001b[0;32m     <a href='vscode-notebook-cell:/c%3A/Users/imate/Documents/24.9.Notebooks_training/Final-pipeline/notebooks/1-im-eda.ipynb#W1sZmlsZQ%3D%3D?line=23'>24</a>\u001b[0m output_file \u001b[39m=\u001b[39m \u001b[39mr\u001b[39m\u001b[39m\"\u001b[39m\u001b[39mC:\u001b[39m\u001b[39m\\\u001b[39m\u001b[39mUsers\u001b[39m\u001b[39m\\\u001b[39m\u001b[39mimate\u001b[39m\u001b[39m\\\u001b[39m\u001b[39mDocuments\u001b[39m\u001b[39m\\\u001b[39m\u001b[39m24.9.Notebooks_training\u001b[39m\u001b[39m\\\u001b[39m\u001b[39mFinal-pipeline\u001b[39m\u001b[39m\\\u001b[39m\u001b[39mdata\u001b[39m\u001b[39m\\\u001b[39m\u001b[39mprocessed\u001b[39m\u001b[39m\\\u001b[39m\u001b[39mmerged_data.csv\u001b[39m\u001b[39m\"\u001b[39m\n\u001b[1;32m---> <a href='vscode-notebook-cell:/c%3A/Users/imate/Documents/24.9.Notebooks_training/Final-pipeline/notebooks/1-im-eda.ipynb#W1sZmlsZQ%3D%3D?line=25'>26</a>\u001b[0m merged_dataframe \u001b[39m=\u001b[39m merge_csv_files(weather_file, train_file, building_file, output_file)\n\u001b[0;32m     <a href='vscode-notebook-cell:/c%3A/Users/imate/Documents/24.9.Notebooks_training/Final-pipeline/notebooks/1-im-eda.ipynb#W1sZmlsZQ%3D%3D?line=26'>27</a>\u001b[0m \u001b[39mprint\u001b[39m(\u001b[39m\"\u001b[39m\u001b[39mMerged data saved to merged_data.csv\u001b[39m\u001b[39m\"\u001b[39m)\n",
      "\u001b[1;32mc:\\Users\\imate\\Documents\\24.9.Notebooks_training\\Final-pipeline\\notebooks\\1-im-eda.ipynb Cell 2\u001b[0m line \u001b[0;36m1\n\u001b[0;32m     <a href='vscode-notebook-cell:/c%3A/Users/imate/Documents/24.9.Notebooks_training/Final-pipeline/notebooks/1-im-eda.ipynb#W1sZmlsZQ%3D%3D?line=9'>10</a>\u001b[0m building_metadata \u001b[39m=\u001b[39m pd\u001b[39m.\u001b[39mread_csv(building_file, index_col\u001b[39m=\u001b[39m[\u001b[39m\"\u001b[39m\u001b[39msite_id\u001b[39m\u001b[39m\"\u001b[39m, \u001b[39m\"\u001b[39m\u001b[39mbuilding_id\u001b[39m\u001b[39m\"\u001b[39m])\n\u001b[0;32m     <a href='vscode-notebook-cell:/c%3A/Users/imate/Documents/24.9.Notebooks_training/Final-pipeline/notebooks/1-im-eda.ipynb#W1sZmlsZQ%3D%3D?line=11'>12</a>\u001b[0m \u001b[39m# Merge the dataframes\u001b[39;00m\n\u001b[1;32m---> <a href='vscode-notebook-cell:/c%3A/Users/imate/Documents/24.9.Notebooks_training/Final-pipeline/notebooks/1-im-eda.ipynb#W1sZmlsZQ%3D%3D?line=12'>13</a>\u001b[0m merged_data \u001b[39m=\u001b[39m pd\u001b[39m.\u001b[39mmerge(pd\u001b[39m.\u001b[39;49mmerge(weather_train, train, left_index\u001b[39m=\u001b[39;49m\u001b[39mTrue\u001b[39;49;00m, right_index\u001b[39m=\u001b[39;49m\u001b[39mTrue\u001b[39;49;00m), building_metadata, left_index\u001b[39m=\u001b[39m\u001b[39mTrue\u001b[39;00m, right_index\u001b[39m=\u001b[39m\u001b[39mTrue\u001b[39;00m)\n\u001b[0;32m     <a href='vscode-notebook-cell:/c%3A/Users/imate/Documents/24.9.Notebooks_training/Final-pipeline/notebooks/1-im-eda.ipynb#W1sZmlsZQ%3D%3D?line=14'>15</a>\u001b[0m \u001b[39m# Save the merged dataframe to a new CSV file\u001b[39;00m\n\u001b[0;32m     <a href='vscode-notebook-cell:/c%3A/Users/imate/Documents/24.9.Notebooks_training/Final-pipeline/notebooks/1-im-eda.ipynb#W1sZmlsZQ%3D%3D?line=15'>16</a>\u001b[0m merged_data\u001b[39m.\u001b[39mto_csv(output_file)\n",
      "File \u001b[1;32mc:\\Users\\imate\\Documents\\24.9.Notebooks_training\\Final-pipeline\\venv\\Lib\\site-packages\\pandas\\core\\reshape\\merge.py:183\u001b[0m, in \u001b[0;36mmerge\u001b[1;34m(left, right, how, on, left_on, right_on, left_index, right_index, sort, suffixes, copy, indicator, validate)\u001b[0m\n\u001b[0;32m    168\u001b[0m \u001b[39melse\u001b[39;00m:\n\u001b[0;32m    169\u001b[0m     op \u001b[39m=\u001b[39m _MergeOperation(\n\u001b[0;32m    170\u001b[0m         left_df,\n\u001b[0;32m    171\u001b[0m         right_df,\n\u001b[1;32m   (...)\u001b[0m\n\u001b[0;32m    181\u001b[0m         validate\u001b[39m=\u001b[39mvalidate,\n\u001b[0;32m    182\u001b[0m     )\n\u001b[1;32m--> 183\u001b[0m     \u001b[39mreturn\u001b[39;00m op\u001b[39m.\u001b[39;49mget_result(copy\u001b[39m=\u001b[39;49mcopy)\n",
      "File \u001b[1;32mc:\\Users\\imate\\Documents\\24.9.Notebooks_training\\Final-pipeline\\venv\\Lib\\site-packages\\pandas\\core\\reshape\\merge.py:883\u001b[0m, in \u001b[0;36m_MergeOperation.get_result\u001b[1;34m(self, copy)\u001b[0m\n\u001b[0;32m    880\u001b[0m \u001b[39mif\u001b[39;00m \u001b[39mself\u001b[39m\u001b[39m.\u001b[39mindicator:\n\u001b[0;32m    881\u001b[0m     \u001b[39mself\u001b[39m\u001b[39m.\u001b[39mleft, \u001b[39mself\u001b[39m\u001b[39m.\u001b[39mright \u001b[39m=\u001b[39m \u001b[39mself\u001b[39m\u001b[39m.\u001b[39m_indicator_pre_merge(\u001b[39mself\u001b[39m\u001b[39m.\u001b[39mleft, \u001b[39mself\u001b[39m\u001b[39m.\u001b[39mright)\n\u001b[1;32m--> 883\u001b[0m join_index, left_indexer, right_indexer \u001b[39m=\u001b[39m \u001b[39mself\u001b[39;49m\u001b[39m.\u001b[39;49m_get_join_info()\n\u001b[0;32m    885\u001b[0m result \u001b[39m=\u001b[39m \u001b[39mself\u001b[39m\u001b[39m.\u001b[39m_reindex_and_concat(\n\u001b[0;32m    886\u001b[0m     join_index, left_indexer, right_indexer, copy\u001b[39m=\u001b[39mcopy\n\u001b[0;32m    887\u001b[0m )\n\u001b[0;32m    888\u001b[0m result \u001b[39m=\u001b[39m result\u001b[39m.\u001b[39m__finalize__(\u001b[39mself\u001b[39m, method\u001b[39m=\u001b[39m\u001b[39mself\u001b[39m\u001b[39m.\u001b[39m_merge_type)\n",
      "File \u001b[1;32mc:\\Users\\imate\\Documents\\24.9.Notebooks_training\\Final-pipeline\\venv\\Lib\\site-packages\\pandas\\core\\reshape\\merge.py:1119\u001b[0m, in \u001b[0;36m_MergeOperation._get_join_info\u001b[1;34m(self)\u001b[0m\n\u001b[0;32m   1116\u001b[0m right_ax \u001b[39m=\u001b[39m \u001b[39mself\u001b[39m\u001b[39m.\u001b[39mright\u001b[39m.\u001b[39mindex\n\u001b[0;32m   1118\u001b[0m \u001b[39mif\u001b[39;00m \u001b[39mself\u001b[39m\u001b[39m.\u001b[39mleft_index \u001b[39mand\u001b[39;00m \u001b[39mself\u001b[39m\u001b[39m.\u001b[39mright_index \u001b[39mand\u001b[39;00m \u001b[39mself\u001b[39m\u001b[39m.\u001b[39mhow \u001b[39m!=\u001b[39m \u001b[39m\"\u001b[39m\u001b[39masof\u001b[39m\u001b[39m\"\u001b[39m:\n\u001b[1;32m-> 1119\u001b[0m     join_index, left_indexer, right_indexer \u001b[39m=\u001b[39m left_ax\u001b[39m.\u001b[39;49mjoin(\n\u001b[0;32m   1120\u001b[0m         right_ax, how\u001b[39m=\u001b[39;49m\u001b[39mself\u001b[39;49m\u001b[39m.\u001b[39;49mhow, return_indexers\u001b[39m=\u001b[39;49m\u001b[39mTrue\u001b[39;49;00m, sort\u001b[39m=\u001b[39;49m\u001b[39mself\u001b[39;49m\u001b[39m.\u001b[39;49msort\n\u001b[0;32m   1121\u001b[0m     )\n\u001b[0;32m   1123\u001b[0m \u001b[39melif\u001b[39;00m \u001b[39mself\u001b[39m\u001b[39m.\u001b[39mright_index \u001b[39mand\u001b[39;00m \u001b[39mself\u001b[39m\u001b[39m.\u001b[39mhow \u001b[39m==\u001b[39m \u001b[39m\"\u001b[39m\u001b[39mleft\u001b[39m\u001b[39m\"\u001b[39m:\n\u001b[0;32m   1124\u001b[0m     join_index, left_indexer, right_indexer \u001b[39m=\u001b[39m _left_join_on_index(\n\u001b[0;32m   1125\u001b[0m         left_ax, right_ax, \u001b[39mself\u001b[39m\u001b[39m.\u001b[39mleft_join_keys, sort\u001b[39m=\u001b[39m\u001b[39mself\u001b[39m\u001b[39m.\u001b[39msort\n\u001b[0;32m   1126\u001b[0m     )\n",
      "File \u001b[1;32mc:\\Users\\imate\\Documents\\24.9.Notebooks_training\\Final-pipeline\\venv\\Lib\\site-packages\\pandas\\core\\indexes\\base.py:266\u001b[0m, in \u001b[0;36m_maybe_return_indexers.<locals>.join\u001b[1;34m(self, other, how, level, return_indexers, sort)\u001b[0m\n\u001b[0;32m    256\u001b[0m \u001b[39m@functools\u001b[39m\u001b[39m.\u001b[39mwraps(meth)\n\u001b[0;32m    257\u001b[0m \u001b[39mdef\u001b[39;00m \u001b[39mjoin\u001b[39m(\n\u001b[0;32m    258\u001b[0m     \u001b[39mself\u001b[39m,\n\u001b[1;32m   (...)\u001b[0m\n\u001b[0;32m    264\u001b[0m     sort: \u001b[39mbool\u001b[39m \u001b[39m=\u001b[39m \u001b[39mFalse\u001b[39;00m,\n\u001b[0;32m    265\u001b[0m ):\n\u001b[1;32m--> 266\u001b[0m     join_index, lidx, ridx \u001b[39m=\u001b[39m meth(\u001b[39mself\u001b[39;49m, other, how\u001b[39m=\u001b[39;49mhow, level\u001b[39m=\u001b[39;49mlevel, sort\u001b[39m=\u001b[39;49msort)\n\u001b[0;32m    267\u001b[0m     \u001b[39mif\u001b[39;00m \u001b[39mnot\u001b[39;00m return_indexers:\n\u001b[0;32m    268\u001b[0m         \u001b[39mreturn\u001b[39;00m join_index\n",
      "File \u001b[1;32mc:\\Users\\imate\\Documents\\24.9.Notebooks_training\\Final-pipeline\\venv\\Lib\\site-packages\\pandas\\core\\indexes\\base.py:4665\u001b[0m, in \u001b[0;36mIndex.join\u001b[1;34m(self, other, how, level, return_indexers, sort)\u001b[0m\n\u001b[0;32m   4662\u001b[0m _validate_join_method(how)\n\u001b[0;32m   4664\u001b[0m \u001b[39mif\u001b[39;00m \u001b[39mnot\u001b[39;00m \u001b[39mself\u001b[39m\u001b[39m.\u001b[39mis_unique \u001b[39mand\u001b[39;00m \u001b[39mnot\u001b[39;00m other\u001b[39m.\u001b[39mis_unique:\n\u001b[1;32m-> 4665\u001b[0m     \u001b[39mreturn\u001b[39;00m \u001b[39mself\u001b[39;49m\u001b[39m.\u001b[39;49m_join_non_unique(other, how\u001b[39m=\u001b[39;49mhow)\n\u001b[0;32m   4666\u001b[0m \u001b[39melif\u001b[39;00m \u001b[39mnot\u001b[39;00m \u001b[39mself\u001b[39m\u001b[39m.\u001b[39mis_unique \u001b[39mor\u001b[39;00m \u001b[39mnot\u001b[39;00m other\u001b[39m.\u001b[39mis_unique:\n\u001b[0;32m   4667\u001b[0m     \u001b[39mif\u001b[39;00m \u001b[39mself\u001b[39m\u001b[39m.\u001b[39mis_monotonic_increasing \u001b[39mand\u001b[39;00m other\u001b[39m.\u001b[39mis_monotonic_increasing:\n",
      "File \u001b[1;32mc:\\Users\\imate\\Documents\\24.9.Notebooks_training\\Final-pipeline\\venv\\Lib\\site-packages\\pandas\\core\\indexes\\base.py:4825\u001b[0m, in \u001b[0;36mIndex._join_non_unique\u001b[1;34m(self, other, how)\u001b[0m\n\u001b[0;32m   4822\u001b[0m mask \u001b[39m=\u001b[39m left_idx \u001b[39m==\u001b[39m \u001b[39m-\u001b[39m\u001b[39m1\u001b[39m\n\u001b[0;32m   4824\u001b[0m join_idx \u001b[39m=\u001b[39m \u001b[39mself\u001b[39m\u001b[39m.\u001b[39mtake(left_idx)\n\u001b[1;32m-> 4825\u001b[0m right \u001b[39m=\u001b[39m other\u001b[39m.\u001b[39;49mtake(right_idx)\n\u001b[0;32m   4826\u001b[0m join_index \u001b[39m=\u001b[39m join_idx\u001b[39m.\u001b[39mputmask(mask, right)\n\u001b[0;32m   4827\u001b[0m \u001b[39mreturn\u001b[39;00m join_index, left_idx, right_idx\n",
      "File \u001b[1;32mc:\\Users\\imate\\Documents\\24.9.Notebooks_training\\Final-pipeline\\venv\\Lib\\site-packages\\pandas\\core\\indexes\\base.py:1158\u001b[0m, in \u001b[0;36mIndex.take\u001b[1;34m(self, indices, axis, allow_fill, fill_value, **kwargs)\u001b[0m\n\u001b[0;32m   1156\u001b[0m values \u001b[39m=\u001b[39m \u001b[39mself\u001b[39m\u001b[39m.\u001b[39m_values\n\u001b[0;32m   1157\u001b[0m \u001b[39mif\u001b[39;00m \u001b[39misinstance\u001b[39m(values, np\u001b[39m.\u001b[39mndarray):\n\u001b[1;32m-> 1158\u001b[0m     taken \u001b[39m=\u001b[39m algos\u001b[39m.\u001b[39;49mtake(\n\u001b[0;32m   1159\u001b[0m         values, indices, allow_fill\u001b[39m=\u001b[39;49mallow_fill, fill_value\u001b[39m=\u001b[39;49m\u001b[39mself\u001b[39;49m\u001b[39m.\u001b[39;49m_na_value\n\u001b[0;32m   1160\u001b[0m     )\n\u001b[0;32m   1161\u001b[0m \u001b[39melse\u001b[39;00m:\n\u001b[0;32m   1162\u001b[0m     \u001b[39m# algos.take passes 'axis' keyword which not all EAs accept\u001b[39;00m\n\u001b[0;32m   1163\u001b[0m     taken \u001b[39m=\u001b[39m values\u001b[39m.\u001b[39mtake(\n\u001b[0;32m   1164\u001b[0m         indices, allow_fill\u001b[39m=\u001b[39mallow_fill, fill_value\u001b[39m=\u001b[39m\u001b[39mself\u001b[39m\u001b[39m.\u001b[39m_na_value\n\u001b[0;32m   1165\u001b[0m     )\n",
      "File \u001b[1;32mc:\\Users\\imate\\Documents\\24.9.Notebooks_training\\Final-pipeline\\venv\\Lib\\site-packages\\pandas\\core\\algorithms.py:1319\u001b[0m, in \u001b[0;36mtake\u001b[1;34m(arr, indices, axis, allow_fill, fill_value)\u001b[0m\n\u001b[0;32m   1314\u001b[0m     result \u001b[39m=\u001b[39m take_nd(\n\u001b[0;32m   1315\u001b[0m         arr, indices, axis\u001b[39m=\u001b[39maxis, allow_fill\u001b[39m=\u001b[39m\u001b[39mTrue\u001b[39;00m, fill_value\u001b[39m=\u001b[39mfill_value\n\u001b[0;32m   1316\u001b[0m     )\n\u001b[0;32m   1317\u001b[0m \u001b[39melse\u001b[39;00m:\n\u001b[0;32m   1318\u001b[0m     \u001b[39m# NumPy style\u001b[39;00m\n\u001b[1;32m-> 1319\u001b[0m     result \u001b[39m=\u001b[39m arr\u001b[39m.\u001b[39;49mtake(indices, axis\u001b[39m=\u001b[39;49maxis)\n\u001b[0;32m   1320\u001b[0m \u001b[39mreturn\u001b[39;00m result\n",
      "\u001b[1;31mMemoryError\u001b[0m: Unable to allocate 11.5 GiB for an array with shape (1540356829,) and data type int64"
     ]
    }
   ],
   "source": [
    "#Read and merge train csv\n",
    "#weather_train.csv: site_id\n",
    "#train.csv : building_id\n",
    "#building_metadata.csv: site_id building_id\n",
    "\n",
    "def merge_csv_files(weather_file, train_file, building_file, output_file):\n",
    "    # Read the CSV files\n",
    "    weather_train = pd.read_csv(weather_file, index_col=\"site_id\")\n",
    "    train = pd.read_csv(train_file, index_col=\"building_id\")\n",
    "    building_metadata = pd.read_csv(building_file, index_col=[\"site_id\", \"building_id\"])\n",
    "\n",
    "    # Merge the dataframes\n",
    "    merged_data = pd.merge(pd.merge(weather_train, train, left_index=True, right_index=True), building_metadata, left_index=True, right_index=True)\n",
    "\n",
    "    # Save the merged dataframe to a new CSV file\n",
    "    merged_data.to_csv(output_file)\n",
    "\n",
    "    return merged_data\n",
    "\n",
    "# Example usage\n",
    "weather_file = r\"C:\\Users\\imate\\Documents\\24.9.Notebooks_training\\Final-pipeline\\data\\raw\\weather_train.csv\"\n",
    "train_file = r\"C:\\Users\\imate\\Documents\\24.9.Notebooks_training\\Final-pipeline\\data\\raw\\train.csv\"\n",
    "building_file = r\"C:\\Users\\imate\\Documents\\24.9.Notebooks_training\\Final-pipeline\\data\\raw\\building_metadata.csv\"\n",
    "output_file = r\"C:\\Users\\imate\\Documents\\24.9.Notebooks_training\\Final-pipeline\\data\\processed\\merged_data.csv\"\n",
    "\n",
    "merged_dataframe = merge_csv_files(weather_file, train_file, building_file, output_file)\n",
    "print(\"Merged data saved to merged_data.csv\")"
   ]
  },
  {
   "cell_type": "code",
   "execution_count": null,
   "metadata": {},
   "outputs": [],
   "source": []
  }
 ],
 "metadata": {
  "kernelspec": {
   "display_name": "Python 3",
   "language": "python",
   "name": "python3"
  },
  "language_info": {
   "codemirror_mode": {
    "name": "ipython",
    "version": 3
   },
   "file_extension": ".py",
   "mimetype": "text/x-python",
   "name": "python",
   "nbconvert_exporter": "python",
   "pygments_lexer": "ipython3",
   "version": "3.11.1"
  }
 },
 "nbformat": 4,
 "nbformat_minor": 2
}
