{
 "cells": [
  {
   "cell_type": "code",
   "execution_count": 1,
   "metadata": {},
   "outputs": [],
   "source": [
    "import pandas as pd\n",
    "import numpy as np\n",
    "import os\n"
   ]
  },
  {
   "cell_type": "code",
   "execution_count": 3,
   "metadata": {},
   "outputs": [],
   "source": [
    "#RAM \n",
    "def randomize_and_filter_dataset(file_path, target_size, random_seed=42):\n",
    "    df = pd.read_csv(file_path)\n",
    "    print('Before:',df.shape)\n",
    "    np.random.seed(random_seed)\n",
    "    indices_to_keep = np.random.choice(df.index, size=target_size, replace=False)\n",
    "    filtered_data = df.loc[indices_to_keep]\n",
    "    return filtered_data\n"
   ]
  },
  {
   "cell_type": "code",
   "execution_count": 6,
   "metadata": {},
   "outputs": [],
   "source": [
    "#Read and merge train csv\n",
    "#weather_train.csv: site_id\n",
    "#train.csv : building_id\n",
    "#building_metadata.csv: site_id building_id\n",
    "\n",
    "def break_datetime(df):\n",
    "  df['timestamp_x']= pd.to_datetime(df['timestamp_x'])\n",
    "  df['hour']= np.uint8(df['timestamp_x'].dt.hour)\n",
    "  df['dayofweek']= np.uint8(df['timestamp_x'].dt.dayofweek)\n",
    "  df['month']= np.uint8(df['timestamp_x'].dt.month)\n",
    "  df['dayofyear']= np.uint16(df['timestamp_x'].dt.dayofyear)\n",
    "  df['day']= np.uint16(df['timestamp_x'].dt.day)\n",
    "  df['year']= np.uint16(df['timestamp_x'].dt.year)\n",
    "  return df\n",
    "\n",
    "def merge_csv_files(weather_file, df, building_file, output):\n",
    "    # Read the CSV files\n",
    "    weather_train = pd.read_csv(weather_file)\n",
    "    #train = pd.read_csv(train_file)\n",
    "    building_metadata = pd.read_csv(building_file)\n",
    "    # Merge the dataframes\n",
    "    merged_data =pd.merge(pd.merge(building_metadata, df, on='building_id'), weather_train, on='site_id')\n",
    "    #Timestamp processing\n",
    "    merged_data= break_datetime(merged_data)\n",
    "    \n",
    "    merged_data['timestamp'] = merged_data['timestamp_x']\n",
    "    merged_data.drop(columns=['timestamp_x', 'timestamp_y'], inplace=True)\n",
    "    \n",
    "    # Save the merged dataframe to a new CSV file\n",
    "    merged_data.to_csv(output, index=False)\n",
    "    return merged_data\n"
   ]
  },
  {
   "cell_type": "markdown",
   "metadata": {},
   "source": [
    "# Train"
   ]
  },
  {
   "cell_type": "code",
   "execution_count": 2,
   "metadata": {},
   "outputs": [],
   "source": [
    "#params\n",
    "base_path = r\"C:\\Users\\imate\\Documents\\24.9.Notebooks_training\\Energy-predictor\\data\\0_raw\"\n",
    "\n",
    "weather_file = os.path.join(base_path, \"weather_train.csv\")\n",
    "train_file = os.path.join(base_path, \"train.csv\")\n",
    "building_file = os.path.join(base_path, \"building_metadata.csv\")\n",
    "output_file = os.path.join(base_path, \"0_merged_train.csv\")\n"
   ]
  },
  {
   "cell_type": "code",
   "execution_count": null,
   "metadata": {},
   "outputs": [],
   "source": [
    "train = randomize_and_filter_dataset(train_file, target_size=30)\n",
    "print('After:',train.shape)"
   ]
  },
  {
   "cell_type": "code",
   "execution_count": 10,
   "metadata": {},
   "outputs": [
    {
     "name": "stdout",
     "output_type": "stream",
     "text": [
      "Merged data saved to merged_data.csv (262305, 22)\n"
     ]
    }
   ],
   "source": [
    "train_df = merge_csv_files(weather_file, train, building_file, output_file)\n",
    "print(\"Merged data saved:\", train_df.shape)"
   ]
  },
  {
   "cell_type": "markdown",
   "metadata": {},
   "source": [
    "# Test"
   ]
  },
  {
   "cell_type": "code",
   "execution_count": 5,
   "metadata": {},
   "outputs": [],
   "source": [
    "base_path = r\"C:\\Users\\imate\\Documents\\24.9.Notebooks_training\\Energy-predictor\\data\\0_raw\"\n",
    "weather_file = os.path.join(base_path, \"weather_train.csv\")\n",
    "test_file = os.path.join(base_path, \"test.csv\")\n",
    "building_file = os.path.join(base_path, \"building_metadata.csv\")\n",
    "output_test = os.path.join(base_path, \"0_merged_test.csv\")"
   ]
  },
  {
   "cell_type": "code",
   "execution_count": 7,
   "metadata": {},
   "outputs": [
    {
     "name": "stdout",
     "output_type": "stream",
     "text": [
      "Before: (41697600, 4)\n",
      "After: (30, 4)\n"
     ]
    }
   ],
   "source": [
    "test = randomize_and_filter_dataset(test_file, target_size=30)\n",
    "print('After:',test.shape)"
   ]
  },
  {
   "cell_type": "code",
   "execution_count": null,
   "metadata": {},
   "outputs": [],
   "source": [
    "merge_csv_files(weather_file, test, building_file, output_test)"
   ]
  }
 ],
 "metadata": {
  "kernelspec": {
   "display_name": "venv",
   "language": "python",
   "name": "python3"
  },
  "language_info": {
   "codemirror_mode": {
    "name": "ipython",
    "version": 3
   },
   "file_extension": ".py",
   "mimetype": "text/x-python",
   "name": "python",
   "nbconvert_exporter": "python",
   "pygments_lexer": "ipython3",
   "version": "3.11.1"
  }
 },
 "nbformat": 4,
 "nbformat_minor": 2
}
